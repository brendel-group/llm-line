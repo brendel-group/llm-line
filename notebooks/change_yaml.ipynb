{
 "cells": [
  {
   "cell_type": "code",
   "execution_count": null,
   "metadata": {},
   "outputs": [],
   "source": [
    "import yaml\n",
    "import orjson\n",
    "import glob\n",
    "import os\n",
    "from types import SimpleNamespace\n",
    "\n",
    "# set cwd\n",
    "os.chdir('/lustre/fast/fast/pmayilvahanan/llm_line/code/llm_line')\n",
    "\n",
    "from config import format_model_info, ModelConfig"
   ]
  },
  {
   "cell_type": "code",
   "execution_count": null,
   "metadata": {},
   "outputs": [],
   "source": [
    "# Load YAML configuration\n",
    "with open('other_models.yaml', 'r') as f:\n",
    "    yaml_config = yaml.safe_load(f)\n",
    "\n",
    "# Create a lookup dictionary from YAML data\n",
    "model_configs = {model['name']: model for model in yaml_config}"
   ]
  },
  {
   "cell_type": "code",
   "execution_count": null,
   "metadata": {},
   "outputs": [],
   "source": [
    "# Directory containing JSON files\n",
    "dir_results = \"/fast/pmayilvahanan/llm_line/results/\"\n",
    "string_match = \"C4\"\n",
    "\n",
    "# Process each JSON file\n",
    "for json_file in glob.glob(os.path.join(dir_results, '*'+string_match+'*.json')):\n",
    "    try:\n",
    "        # Read the JSON file\n",
    "        with open(json_file, 'rb') as f:\n",
    "            data = orjson.loads(f.read())\n",
    "        \n",
    "        # Get model name from the existing metadata\n",
    "        model_name = data['model_metadata']['model_name']\n",
    "        \n",
    "        # If we have configuration for this model\n",
    "        if model_name in model_configs:\n",
    "            config = model_configs[model_name]\n",
    "            \n",
    "            # Update metadata with YAML configuration\n",
    "            data['model_metadata'].update({\n",
    "                'model_name': model_name,\n",
    "                'architecture': config['architecture'],\n",
    "                'dataset': config['dataset'],\n",
    "                'dataset_version': config['dataset_version'],\n",
    "                'dataset_size': config['dataset_size'],\n",
    "                'batch_size': config['batch_size'],\n",
    "                'device': config['device']\n",
    "            })\n",
    "            \n",
    "            # Create new filename\n",
    "            # Convert dict config to ModelConfig object for format_model_info\n",
    "            #MC = ModelConfig()\n",
    "            # config_obj = ModelConfig.from_dict(config)\n",
    "            config = SimpleNamespace(**config)\n",
    "\n",
    "            new_filename = format_model_info(config)+\".json\"\n",
    "            new_filepath = os.path.join(dir_results, new_filename)\n",
    "\n",
    "            # Write updated JSON to new file\n",
    "            with open(new_filepath, 'wb') as f:\n",
    "                f.write(orjson.dumps(data, option=orjson.OPT_INDENT_2))\n",
    "            \n",
    "            # Remove old file if new filename is different\n",
    "            if new_filepath != json_file:\n",
    "                os.remove(json_file)\n",
    "                \n",
    "            print(f\"Updated and renamed:\\nOld: {os.path.basename(json_file)}\\nNew: {new_filename}\\n\")\n",
    "            \n",
    "    except orjson.JSONDecodeError as e:\n",
    "        print(f\"Error processing {json_file}: {e}\")"
   ]
  },
  {
   "cell_type": "code",
   "execution_count": null,
   "metadata": {},
   "outputs": [],
   "source": []
  }
 ],
 "metadata": {
  "kernelspec": {
   "display_name": ".venv",
   "language": "python",
   "name": ".venv"
  },
  "language_info": {
   "codemirror_mode": {
    "name": "ipython",
    "version": 3
   },
   "file_extension": ".py",
   "mimetype": "text/x-python",
   "name": "python",
   "nbconvert_exporter": "python",
   "pygments_lexer": "ipython3",
   "version": "3.10.12"
  }
 },
 "nbformat": 4,
 "nbformat_minor": 2
}
